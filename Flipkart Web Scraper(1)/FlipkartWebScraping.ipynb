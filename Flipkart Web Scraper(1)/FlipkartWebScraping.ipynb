{
 "cells": [
  {
   "cell_type": "code",
   "execution_count": 1,
   "id": "3b6476bc-308f-4871-9efa-397134f9dcfc",
   "metadata": {},
   "outputs": [],
   "source": [
    "# import packages\n",
    "from bs4 import BeautifulSoup as bs\n",
    "import pandas as pd\n",
    "import requests\n",
    "import time\n",
    "import datetime"
   ]
  },
  {
   "cell_type": "code",
   "execution_count": 2,
   "id": "215270cb-340f-4c12-866c-eb2867ec283b",
   "metadata": {},
   "outputs": [
    {
     "name": "stdout",
     "output_type": "stream",
     "text": [
      "\n",
      "            Ncert Physics Part 1 Class 12\n",
      "            \n",
      "            (Paperback, NCERET)\n",
      "           \n",
      "\n",
      "             ₹139\n",
      "            \n",
      "\n",
      "              4.3\n",
      "              \n",
      "\n"
     ]
    }
   ],
   "source": [
    "# url for web scraping\n",
    "url = 'https://www.flipkart.com/ncert-physics-part-1-class-12/p/itm9b3253b215a56?pid=RBKFVGHFMXBRCHKT&lid=LSTRBKFVGHFMXBRCHKTKMAUJU&marketplace=FLIPKART&q=physics+ncert+book+class+12&store=bks&srno=s_1_6&otracker=search&otracker1=search&fm=organic&iid=a2dd8170-3236-4c4a-8645-113f5f8d43ad.RBKFVGHFMXBRCHKT.SEARCH&ppt=hp&ppn=homepage&ssid=aptpnd8fds0000001670619344493&qH=c853b19344f9301c'\n",
    "\n",
    "# For different computers it has different headers, we can access it through the link \"httpbin.org/get\"\n",
    "headers = {\n",
    "    \"User-Agent\": \"Mozilla/5.0 (Windows NT 10.0; Win64; x64) AppleWebKit/537.36 (KHTML, like Gecko) Chrome/108.0.0.0 Safari/537.36\", \n",
    "    \"X-Amzn-Trace-Id\": \"Root=1-63949a0e-38e299e927775395444a9720\"\n",
    "  }\n",
    "# Send requests to the url\n",
    "page = requests.get(url, headers = headers)\n",
    "\n",
    "# Using BeautifulSoup searching cleaning the html doc\n",
    "soup1 = bs(page.content, \"html.parser\")\n",
    "soup2 = bs(soup1.prettify(), \"html.parser\")\n",
    "\n",
    "# Searching for specific contents from the html doc using class_\n",
    "title = soup2.find(class_ = 'B_NuCI').get_text()\n",
    "price = soup2.find(class_ = '_30jeq3 _16Jk6d').get_text()\n",
    "ratings = soup2.find(class_ = '_3LWZlK').get_text()\n",
    "\n",
    "print(title)\n",
    "print(price)\n",
    "print(ratings)"
   ]
  },
  {
   "cell_type": "code",
   "execution_count": 3,
   "id": "91aaa6e5-45e9-4dd8-b498-6ecc2ddb7081",
   "metadata": {},
   "outputs": [
    {
     "name": "stdout",
     "output_type": "stream",
     "text": [
      "Ncert Physics Part 1 Class 12\n",
      "            \n",
      "            (Paperback, NCERET)\n",
      "139\n",
      "4.3\n"
     ]
    }
   ],
   "source": [
    "# strip() method to remove any trailing or leading characters or spaces\n",
    "title = title.strip()\n",
    "price = price.strip()[1:]\n",
    "ratings = ratings.strip()\n",
    "\n",
    "print(title)\n",
    "print(price)\n",
    "print(ratings)"
   ]
  },
  {
   "cell_type": "code",
   "execution_count": 4,
   "id": "d2fdabbf-1b05-47ee-a84a-556e7deb1987",
   "metadata": {},
   "outputs": [
    {
     "name": "stdout",
     "output_type": "stream",
     "text": [
      "2022-12-10\n"
     ]
    }
   ],
   "source": [
    "# call today's date\n",
    "today = datetime.date.today()\n",
    "print(today)"
   ]
  },
  {
   "cell_type": "code",
   "execution_count": 5,
   "id": "eb858fc1-66fa-4dd2-8ec0-03d23863e81e",
   "metadata": {},
   "outputs": [],
   "source": [
    "import csv\n",
    "\n",
    "# Create header for the csv file\n",
    "header = ['Product Name', 'Price', 'Ratings', 'Date']\n",
    "\n",
    "# Create the data rows for csv file\n",
    "data = [title, price, ratings, today]\n",
    "\n",
    "# Contest manager for importing the data into csv\n",
    "with open('FlipkartWebScrapping.csv', 'w', newline = '', encoding = 'UTF8') as file:\n",
    "    writer = csv.writer(file)\n",
    "    writer.writerow(header)\n",
    "    writer.writerow(data)"
   ]
  },
  {
   "cell_type": "code",
   "execution_count": 6,
   "id": "d0f39a01-0696-4ac9-a19d-0c300e346503",
   "metadata": {},
   "outputs": [
    {
     "data": {
      "text/html": [
       "<div>\n",
       "<style scoped>\n",
       "    .dataframe tbody tr th:only-of-type {\n",
       "        vertical-align: middle;\n",
       "    }\n",
       "\n",
       "    .dataframe tbody tr th {\n",
       "        vertical-align: top;\n",
       "    }\n",
       "\n",
       "    .dataframe thead th {\n",
       "        text-align: right;\n",
       "    }\n",
       "</style>\n",
       "<table border=\"1\" class=\"dataframe\">\n",
       "  <thead>\n",
       "    <tr style=\"text-align: right;\">\n",
       "      <th></th>\n",
       "      <th>Product Name</th>\n",
       "      <th>Price</th>\n",
       "      <th>Ratings</th>\n",
       "      <th>Date</th>\n",
       "    </tr>\n",
       "  </thead>\n",
       "  <tbody>\n",
       "    <tr>\n",
       "      <th>0</th>\n",
       "      <td>Ncert Physics Part 1 Class 12\\n            \\n ...</td>\n",
       "      <td>139</td>\n",
       "      <td>4.3</td>\n",
       "      <td>2022-12-10</td>\n",
       "    </tr>\n",
       "  </tbody>\n",
       "</table>\n",
       "</div>"
      ],
      "text/plain": [
       "                                        Product Name  Price  Ratings  \\\n",
       "0  Ncert Physics Part 1 Class 12\\n            \\n ...    139      4.3   \n",
       "\n",
       "         Date  \n",
       "0  2022-12-10  "
      ]
     },
     "execution_count": 6,
     "metadata": {},
     "output_type": "execute_result"
    }
   ],
   "source": [
    "# create a dataframe\n",
    "df = pd.read_csv(r'C:\\Users\\ASUS\\FlipkartWebScrapping.csv')\n",
    "df"
   ]
  },
  {
   "cell_type": "code",
   "execution_count": 7,
   "id": "83cb1ef3-cd03-4c50-88a4-2243fbd482dd",
   "metadata": {},
   "outputs": [],
   "source": [
    "# For price tracker, we need to append values to the original csv\n",
    "with open('FlipkartWebScrapping.csv', 'a+', newline = '', encoding = 'UTF8') as file:\n",
    "    writer = csv.writer(file)\n",
    "    writer.writerow(data)"
   ]
  },
  {
   "cell_type": "code",
   "execution_count": 14,
   "id": "aa7cc75e-3ba1-441b-a47c-d6b85da38389",
   "metadata": {},
   "outputs": [],
   "source": [
    "# Automate web scraping\n",
    "def check_price():\n",
    "    url = 'https://www.flipkart.com/ncert-physics-part-1-class-12/p/itm9b3253b215a56?pid=RBKFVGHFMXBRCHKT&lid=LSTRBKFVGHFMXBRCHKTKMAUJU&marketplace=FLIPKART&q=physics+ncert+book+class+12&store=bks&srno=s_1_6&otracker=search&otracker1=search&fm=organic&iid=a2dd8170-3236-4c4a-8645-113f5f8d43ad.RBKFVGHFMXBRCHKT.SEARCH&ppt=hp&ppn=homepage&ssid=aptpnd8fds0000001670619344493&qH=c853b19344f9301c'\n",
    "\n",
    "    headers = {\n",
    "    \"User-Agent\": \"Mozilla/5.0 (Windows NT 10.0; Win64; x64) AppleWebKit/537.36 (KHTML, like Gecko) Chrome/108.0.0.0 Safari/537.36\", \n",
    "    \"X-Amzn-Trace-Id\": \"Root=1-63949a0e-38e299e927775395444a9720\"\n",
    "  }\n",
    "\n",
    "    page = requests.get(url, headers = headers)\n",
    "\n",
    "    soup1 = bs(page.content, \"html.parser\")\n",
    "    soup2 = bs(soup1.prettify(), \"html.parser\")\n",
    "\n",
    "    title = soup2.find(class_ = 'B_NuCI').get_text()\n",
    "    price = soup2.find(class_ = '_30jeq3 _16Jk6d').get_text()\n",
    "    ratings = soup2.find(class_ = '_3LWZlK').get_text()\n",
    "    \n",
    "    title = title.strip()\n",
    "    price = price.strip()[1:]\n",
    "    ratings = ratings.strip()\n",
    "    \n",
    "    # call today's date\n",
    "    today = datetime.date.today()\n",
    "    \n",
    "    import csv\n",
    "    header = ['Product Name', 'Price', 'Ratings', 'Date']\n",
    "    data = [title, price, ratings, today]\n",
    "    \n",
    "    # For price tracker, we need to append values to the original csv\n",
    "    with open('FlipkartWebScrapping.csv', 'a+', newline = '', encoding = 'UTF8') as file:\n",
    "        writer = csv.writer(file)\n",
    "        writer.writerow(data)"
   ]
  },
  {
   "cell_type": "code",
   "execution_count": null,
   "id": "6a309bd5-8af8-4f21-b9ea-3a99e0a952a4",
   "metadata": {},
   "outputs": [],
   "source": [
    "# Set timeline (how often price will be checked)\n",
    "while(True):\n",
    "    check_price()\n",
    "    time.sleep(1)"
   ]
  },
  {
   "cell_type": "code",
   "execution_count": null,
   "id": "9d5115d2-145c-49ad-8635-73ddb674397f",
   "metadata": {},
   "outputs": [],
   "source": [
    "# create a dataframe\n",
    "import pandas as pd\n",
    "df = pd.read_csv(r'C:\\Users\\ASUS\\FlipkartWebScrapping.csv')\n",
    "print(df)"
   ]
  }
 ],
 "metadata": {
  "kernelspec": {
   "display_name": "Python 3 (ipykernel)",
   "language": "python",
   "name": "python3"
  },
  "language_info": {
   "codemirror_mode": {
    "name": "ipython",
    "version": 3
   },
   "file_extension": ".py",
   "mimetype": "text/x-python",
   "name": "python",
   "nbconvert_exporter": "python",
   "pygments_lexer": "ipython3",
   "version": "3.9.13"
  }
 },
 "nbformat": 4,
 "nbformat_minor": 5
}
